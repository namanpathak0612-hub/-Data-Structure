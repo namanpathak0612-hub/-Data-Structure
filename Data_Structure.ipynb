{
  "nbformat": 4,
  "nbformat_minor": 0,
  "metadata": {
    "colab": {
      "provenance": []
    },
    "kernelspec": {
      "name": "python3",
      "display_name": "Python 3"
    },
    "language_info": {
      "name": "python"
    }
  },
  "cells": [
    {
      "cell_type": "markdown",
      "source": [
        " # what are data structure and why are they important?\n",
        "   - a data structure is a way of organising and storing data. they are important because they enable efficent storage retrival and modification of data which is crucial for building fast and scalable software.\n",
        "\n",
        "\n",
        " #  Explain the difference between mutable and immutable data types with examples\n",
        "   - mutable data types can be changed after they created (e.g.,lists and dicitonaries), while immutable data types cannot be changed (e.g., strings and tuples). if you can modify an immutable object, your actually creating a new objject.\n",
        "\n",
        "\n",
        "  # What are the main differences between lists and tuples in Python3\n",
        "    - List → mutable, dynamic, slower, for changing data\n",
        "\n",
        "     Tuple → immutable, faster, for fixed data\n",
        "\n",
        "  \n",
        "  #  Describe how dictionaries store data\n",
        "    - Dictionaries store data as key–value pairs in a hash table, using hashing for fast lookups\n",
        "  \n",
        "  # Why might you use a set instead of a list in Python?\n",
        "    - Use a set when you need unique elements and fast membership tests, or when working with mathematical set operations.\n",
        "\n",
        "  \n",
        "  # What is a string in Python, and how is it different from a list?\n",
        "    - String → immutable sequence of characters\n",
        "\n",
        "      List → mutable sequence of elements (any data type)\n",
        "\n",
        "  \n",
        "  #  How do tuples ensure data integrity in Python?\n",
        "    - Tuples ensure data integrity by being immutable and hashable, which prevents accidental changes and makes them safe for use as keys or constants.\n",
        "\n",
        "  \n",
        "  # What is a hash table, and how does it relate to dictionaries in Python?\n",
        "    - a hash table is  a data is a data structure that stores data in key values pair. python dicitionaries are implemented using hash tables which allowed them to provide very fast data retrival.\n",
        "\n",
        "  \n",
        "  # Can lists contain different data types in Python?\n",
        "    - yes this list contains different data types. for example a single list can hold an integers a string float all at once: [1,\"hello\", 3.14].\n",
        "\n",
        "  \n",
        "  # Explain why strings are immutable in Python.\n",
        "    - string are immutuable for performance and efficiency. they are a fundamental data type and immutability allows them to be stored and accessed more efficiently.\n",
        "\n",
        "  \n",
        "  # What advantages do dictionaries offer over lists for certain tasks?\n",
        "    - Dictionaries are preferred over lists when you need fast lookups, clear key–value relationships, and easy access without relying on positions.\n",
        "\n",
        "  \n",
        "  # Describe a scenario where using a tuple would be preferable over a list?\n",
        "    - a tuple is preferable for storing coordinates like (x, y) or RGB color values shouldn't change using a tuple ensures they remain constant.\n",
        "\n",
        "  \n",
        "  # How do sets handle duplicate values in Python?\n",
        "    - sets automatically handle duplicate values by storing only one instance of each element. if you try to add a set it simply get ignored.\n",
        "\n",
        "\n",
        "  # How does the “in” keyword work differently for lists and dictionaries?\n",
        "    - for lists the in keyword checks if an element's value exist within the list. for dictionaries the in keyword checks if a key exist within the dictionaries.\n",
        "\n",
        "\n",
        "  # Can you modify the elements of a tuple? Explain why or why not.\n",
        "    - No you cannot modify the elements of a tuple because tuples are immutuable. once a tuple is created its elements and their order are fixed.\n",
        "\n",
        "\n",
        "  # What is a nested dictionary, and give an example of its use case?\n",
        "    - A nested dictionary is a dictionary that contains another dictionary as its value.\n",
        "\n",
        "Example & Use Case:\n",
        "students = {\n",
        "    \"101\": {\"name\": \"Alice\", \"age\": 20},\n",
        "    \"102\": {\"name\": \"Bob\", \"age\": 22}\n",
        "}\n",
        "\n",
        "print(students[\"101\"][\"name\"])  # Alice\n",
        "\n",
        "\n",
        " # Describe the time complexity of accessing elements in a dictionary.\n",
        "   - Accessing elements in a Python dictionary:\n",
        "\n",
        "     Average Case: O(1) → Direct lookup using hashing.\n",
        "\n",
        "     Worst Case: O(n) → Happens only if many keys collide (rare, since Python optimizes hashing).\n",
        "\n",
        "     In practice, dictionary access is considered constant time (O(1)).\n",
        "\n",
        "\n",
        " # In what situations are lists preferred over dictionaries?\n",
        "   - Use a list when you need ordered, sequential data and don’t require named keys.\n",
        "     Use a dictionary when you need fast lookups by unique keys.\n",
        "\n",
        "  # Why are dictionaries considered unordered, and how does that affect data retrieval?\n",
        "    - Dictionaries are considered unordered because they are designed for fast key lookups, not positional access. This means you retrieve items by key, not by order.\n",
        "\n",
        "  # Explain the difference between a list and a dictionary in terms of data retrieval.\n",
        "    - List → Retrieve by position (index).\n",
        "\n",
        "     Dictionary → Retrieve by unique key.  "
      ],
      "metadata": {
        "id": "3KvtVXIUr696"
      }
    },
    {
      "cell_type": "code",
      "source": [
        " # Write a code to create a string with your name and print it.\n",
        "\n",
        "name = \"Naman\"\n",
        "print(name)"
      ],
      "metadata": {
        "colab": {
          "base_uri": "https://localhost:8080/"
        },
        "id": "y6CiLPMhLFi2",
        "outputId": "ee39d866-8650-4363-9bcc-a7111aab4a42"
      },
      "execution_count": 1,
      "outputs": [
        {
          "output_type": "stream",
          "name": "stdout",
          "text": [
            "Naman\n"
          ]
        }
      ]
    },
    {
      "cell_type": "code",
      "source": [
        " # Write a code to find the length of the string \"Hello World\".\n",
        "\n",
        "text = \"Hello World\"\n",
        "print(len(text))"
      ],
      "metadata": {
        "colab": {
          "base_uri": "https://localhost:8080/"
        },
        "id": "pCiZcBrgNy0f",
        "outputId": "aa5743ef-d7d0-4a44-c682-f17ba667a5b4"
      },
      "execution_count": 5,
      "outputs": [
        {
          "output_type": "stream",
          "name": "stdout",
          "text": [
            "11\n"
          ]
        }
      ]
    },
    {
      "cell_type": "code",
      "source": [
        " #  Write a code to slice the first 3 characters from the string \"Python Programming\".\n",
        "\n",
        "s = \"Python Programming\"\n",
        "print(s[:3])"
      ],
      "metadata": {
        "colab": {
          "base_uri": "https://localhost:8080/"
        },
        "id": "51vuD6DFOGBP",
        "outputId": "b66fca01-ad7f-42f4-ca7a-00faa4aa7f52"
      },
      "execution_count": 7,
      "outputs": [
        {
          "output_type": "stream",
          "name": "stdout",
          "text": [
            "Pyt\n"
          ]
        }
      ]
    },
    {
      "cell_type": "code",
      "source": [
        " # Write a code to convert the string \"hello\" to uppercase.\n",
        "\n",
        " text = \"hello\"\n",
        " print(text.upper())"
      ],
      "metadata": {
        "colab": {
          "base_uri": "https://localhost:8080/"
        },
        "id": "R4BEEsCZPNwH",
        "outputId": "6cb0c004-7152-4142-c08b-ca52addfa1d3"
      },
      "execution_count": 9,
      "outputs": [
        {
          "output_type": "stream",
          "name": "stdout",
          "text": [
            "HELLO\n"
          ]
        }
      ]
    },
    {
      "cell_type": "code",
      "source": [
        " # Write a code to replace the word \"apple\" with \"orange\" in the string \"I like apple\".\n",
        "\n",
        " text = \"I like apple\"\n",
        " print(text.replace(\"apple\", \"orange\"))"
      ],
      "metadata": {
        "colab": {
          "base_uri": "https://localhost:8080/"
        },
        "id": "Qyju-v8iPZgh",
        "outputId": "e17bede4-6b38-456e-c26b-371107ec9161"
      },
      "execution_count": 10,
      "outputs": [
        {
          "output_type": "stream",
          "name": "stdout",
          "text": [
            "I like orange\n"
          ]
        }
      ]
    },
    {
      "cell_type": "code",
      "source": [
        " # Write a code to create a list with numbers 1 to 5 and print it.\n",
        "\n",
        " list = [1,2,3,4,5]\n",
        " print(list)"
      ],
      "metadata": {
        "colab": {
          "base_uri": "https://localhost:8080/"
        },
        "id": "Lesq6Xr3Poyo",
        "outputId": "f431c48a-a12a-4e60-8be2-8814ed2f1293"
      },
      "execution_count": 11,
      "outputs": [
        {
          "output_type": "stream",
          "name": "stdout",
          "text": [
            "[1, 2, 3, 4, 5]\n"
          ]
        }
      ]
    },
    {
      "cell_type": "code",
      "source": [
        " # Write a code to append the number 10 to the list [1, 2, 3, 4].\n",
        "\n",
        " list = [1,2,3,4]\n",
        " list.append(10)\n",
        " print(list)"
      ],
      "metadata": {
        "colab": {
          "base_uri": "https://localhost:8080/"
        },
        "id": "iqqyn4h9Pw9G",
        "outputId": "f70ad955-7c3b-4f2e-c1c2-142a6c6cac72"
      },
      "execution_count": 12,
      "outputs": [
        {
          "output_type": "stream",
          "name": "stdout",
          "text": [
            "[1, 2, 3, 4, 10]\n"
          ]
        }
      ]
    },
    {
      "cell_type": "code",
      "source": [
        " # Write a code to remove the number 3 from the list [1, 2, 3, 4, 5].\n",
        "\n",
        " list = [1,2,3,4,5]\n",
        " list.remove(3)\n",
        " print(list)"
      ],
      "metadata": {
        "colab": {
          "base_uri": "https://localhost:8080/"
        },
        "id": "9jk7qAxFP86e",
        "outputId": "df2252b2-da4b-4ac1-f7ef-9de6827110b2"
      },
      "execution_count": 13,
      "outputs": [
        {
          "output_type": "stream",
          "name": "stdout",
          "text": [
            "[1, 2, 4, 5]\n"
          ]
        }
      ]
    },
    {
      "cell_type": "code",
      "source": [
        " # Write a code to access the second element in the list ['a', 'b', 'c', 'd'].\n",
        "\n",
        " list = ['a', 'b', 'c', 'd']\n",
        " print(list[1])"
      ],
      "metadata": {
        "colab": {
          "base_uri": "https://localhost:8080/"
        },
        "id": "6nMQqQXEQD8X",
        "outputId": "8945f62b-2845-484d-8eae-26d054600f4a"
      },
      "execution_count": 14,
      "outputs": [
        {
          "output_type": "stream",
          "name": "stdout",
          "text": [
            "b\n"
          ]
        }
      ]
    },
    {
      "cell_type": "code",
      "source": [
        "# Write a code to reverse the list [10, 20, 30, 40, 50].\n",
        "\n",
        "nums = [10, 20, 30, 40, 50]\n",
        "nums.reverse()\n",
        "print(nums)"
      ],
      "metadata": {
        "colab": {
          "base_uri": "https://localhost:8080/"
        },
        "id": "Eo5vf6qfQRTX",
        "outputId": "23dff704-1894-4910-cb60-578406be9181"
      },
      "execution_count": 15,
      "outputs": [
        {
          "output_type": "stream",
          "name": "stdout",
          "text": [
            "[50, 40, 30, 20, 10]\n"
          ]
        }
      ]
    },
    {
      "cell_type": "code",
      "source": [
        " # Write a code to create a tuple with the elements 100, 200, 300 and print it.\n",
        "\n",
        " tuple = (100, 200, 300)\n",
        " print(tuple)"
      ],
      "metadata": {
        "colab": {
          "base_uri": "https://localhost:8080/"
        },
        "id": "jAZNo5vzQfzY",
        "outputId": "58b67952-1598-4fef-c4cb-cb43bc1137cc"
      },
      "execution_count": 16,
      "outputs": [
        {
          "output_type": "stream",
          "name": "stdout",
          "text": [
            "(100, 200, 300)\n"
          ]
        }
      ]
    },
    {
      "cell_type": "code",
      "source": [
        " # Write a code to access the second-to-last element of the tuple ('red', 'green', 'blue', 'yellow').\n",
        "0\n",
        " tuple = ('red', 'green', 'blue', 'yellow')\n",
        " print(tuple[-2])"
      ],
      "metadata": {
        "colab": {
          "base_uri": "https://localhost:8080/"
        },
        "id": "IOBJrvxiQu_w",
        "outputId": "caa6352d-ce7a-40dd-ad89-eefa413399fc"
      },
      "execution_count": 17,
      "outputs": [
        {
          "output_type": "stream",
          "name": "stdout",
          "text": [
            "blue\n"
          ]
        }
      ]
    },
    {
      "cell_type": "code",
      "source": [
        " # Write a code to find the minimum number in the tuple (10, 20, 5, 15).\n",
        "\n",
        " tuple = (10, 20, 5, 15)\n",
        " print(min(tuple))"
      ],
      "metadata": {
        "colab": {
          "base_uri": "https://localhost:8080/"
        },
        "id": "7ccTtj9AQ3fQ",
        "outputId": "d872883d-4aa3-4332-e0c8-58a89b4bf2f6"
      },
      "execution_count": 18,
      "outputs": [
        {
          "output_type": "stream",
          "name": "stdout",
          "text": [
            "5\n"
          ]
        }
      ]
    },
    {
      "cell_type": "code",
      "source": [
        " #  Write a code to find the index of the element \"cat\" in the tuple ('dog', 'cat', 'rabbit').\n",
        "\n",
        " tuple = ('dog', 'cat', 'rabbit')\n",
        " print(tuple.index(\"cat\"))"
      ],
      "metadata": {
        "colab": {
          "base_uri": "https://localhost:8080/"
        },
        "id": "aqwsLazpRAg5",
        "outputId": "b61c95f8-ddd8-4b3b-d5be-fe7c448158c9"
      },
      "execution_count": 19,
      "outputs": [
        {
          "output_type": "stream",
          "name": "stdout",
          "text": [
            "1\n"
          ]
        }
      ]
    },
    {
      "cell_type": "code",
      "source": [
        " # Write a code to create a tuple containing three different fruits and check if \"kiwi\" is in it.\n",
        "\n",
        " fruits = (\"apple\", \"banana\", \"cherry\")\n",
        " if \"kiwi\" in fruits:\n",
        "    print(\"kiwi is in the tuple\")\n",
        " else:\n",
        "    print(\"kiwi is not in the tuple\")"
      ],
      "metadata": {
        "colab": {
          "base_uri": "https://localhost:8080/"
        },
        "id": "CoKwve1SRHlw",
        "outputId": "75bc08a0-2e73-4983-8878-13975df45e93"
      },
      "execution_count": 20,
      "outputs": [
        {
          "output_type": "stream",
          "name": "stdout",
          "text": [
            "kiwi is not in the tuple\n"
          ]
        }
      ]
    },
    {
      "cell_type": "code",
      "source": [
        " # Write a code to create a set with the elements 'a', 'b', 'c' and print it.\n",
        "\n",
        " set = {'a', 'b', 'c'}\n",
        " print(set)"
      ],
      "metadata": {
        "colab": {
          "base_uri": "https://localhost:8080/"
        },
        "id": "mKRhJI_IRRWN",
        "outputId": "9568caaf-0387-4ca7-b72c-8c795dffa87e"
      },
      "execution_count": 21,
      "outputs": [
        {
          "output_type": "stream",
          "name": "stdout",
          "text": [
            "{'a', 'b', 'c'}\n"
          ]
        }
      ]
    },
    {
      "cell_type": "code",
      "source": [
        " # Write a code to clear all elements from the set {1, 2, 3, 4, 5}.\n",
        "\n",
        " set = {1, 2, 3, 4, 5}\n",
        " set.clear()\n",
        " print(set)"
      ],
      "metadata": {
        "colab": {
          "base_uri": "https://localhost:8080/"
        },
        "id": "skZ9u-nsRWv-",
        "outputId": "53eed804-4c9b-4efc-a50d-ac9b01021a6d"
      },
      "execution_count": 22,
      "outputs": [
        {
          "output_type": "stream",
          "name": "stdout",
          "text": [
            "set()\n"
          ]
        }
      ]
    },
    {
      "cell_type": "code",
      "source": [
        " # Write a code to remove the element 4 from the set {1, 2, 3, 4}.\n",
        "\n",
        " set = {1, 2, 3, 4}\n",
        " set.remove(4)\n",
        " print(set)"
      ],
      "metadata": {
        "colab": {
          "base_uri": "https://localhost:8080/"
        },
        "id": "Qj-Q-WEfRggX",
        "outputId": "0da64b97-cb93-44cf-8156-a579a1ea2e74"
      },
      "execution_count": 23,
      "outputs": [
        {
          "output_type": "stream",
          "name": "stdout",
          "text": [
            "{1, 2, 3}\n"
          ]
        }
      ]
    },
    {
      "cell_type": "code",
      "source": [
        " #  Write a code to find the union of two sets {1, 2, 3} and {3, 4, 5}.\n",
        "\n",
        " set1 = {1, 2, 3}\n",
        " set2 = {3, 4, 5}\n",
        " print(set1.union(set2))"
      ],
      "metadata": {
        "colab": {
          "base_uri": "https://localhost:8080/"
        },
        "id": "22PSYM9xRtum",
        "outputId": "70ac544d-cb1b-44ff-9d60-21f7f3294cea"
      },
      "execution_count": 24,
      "outputs": [
        {
          "output_type": "stream",
          "name": "stdout",
          "text": [
            "{1, 2, 3, 4, 5}\n"
          ]
        }
      ]
    },
    {
      "cell_type": "code",
      "source": [
        " # Write a code to find the intersection of two sets {1, 2, 3} and {2, 3, 4}.\n",
        "\n",
        " set1 = {1, 2, 3}\n",
        " set2 = {2, 3, 4}\n",
        " print(set1.intersection(set2))\n"
      ],
      "metadata": {
        "colab": {
          "base_uri": "https://localhost:8080/"
        },
        "id": "J6dORvSVRzmB",
        "outputId": "73aa9573-cee1-4cb7-b999-9110594ec67d"
      },
      "execution_count": 25,
      "outputs": [
        {
          "output_type": "stream",
          "name": "stdout",
          "text": [
            "{2, 3}\n"
          ]
        }
      ]
    },
    {
      "cell_type": "code",
      "source": [
        " #  Write a code to create a dictionary with the keys \"name\", \"age\", and \"city\", and print it.\n",
        "\n",
        " dic = {\"name\": \"Naman\", \"age\": 23, \"city\": \"Lucknow\"}\n",
        " print(dic)"
      ],
      "metadata": {
        "colab": {
          "base_uri": "https://localhost:8080/"
        },
        "id": "S04TjII_SDRn",
        "outputId": "507cb021-2886-4c9b-d3bc-202f2a96366d"
      },
      "execution_count": 27,
      "outputs": [
        {
          "output_type": "stream",
          "name": "stdout",
          "text": [
            "{'name': 'Naman', 'age': 23, 'city': 'Lucknow'}\n"
          ]
        }
      ]
    },
    {
      "cell_type": "code",
      "source": [
        " # Write a code to add a new key-value pair \"country\": \"USA\" to the dictionary {'name': 'John', 'age': 25}.\n",
        "\n",
        " dic = {'name': 'John', 'age': 25}\n",
        " dic[\"country\"] = \"USA\"\n",
        " print(dic)"
      ],
      "metadata": {
        "colab": {
          "base_uri": "https://localhost:8080/"
        },
        "id": "EaIHncTcSYOW",
        "outputId": "7a596490-daec-4e28-cd28-308f59f11ac5"
      },
      "execution_count": 28,
      "outputs": [
        {
          "output_type": "stream",
          "name": "stdout",
          "text": [
            "{'name': 'John', 'age': 25, 'country': 'USA'}\n"
          ]
        }
      ]
    },
    {
      "cell_type": "code",
      "source": [
        " #  Write a code to access the value associated with the key \"name\" in the dictionary {'name': 'Alice', 'age': 30}.\n",
        "\n",
        " dic = {'name': 'Alice', 'age': 30}\n",
        " print(dic[\"name\"])"
      ],
      "metadata": {
        "colab": {
          "base_uri": "https://localhost:8080/"
        },
        "id": "YlU_XZdVShjo",
        "outputId": "45c37fa6-11b6-41db-e2f7-ccead41e8926"
      },
      "execution_count": 29,
      "outputs": [
        {
          "output_type": "stream",
          "name": "stdout",
          "text": [
            "Alice\n"
          ]
        }
      ]
    },
    {
      "cell_type": "code",
      "source": [
        " # Write a code to remove the key \"age\" from the dictionary {'name': 'Bob', 'age': 22, 'city': 'New York'}.\n",
        "\n",
        " dic = {'name': 'Bob', 'age': 22, 'city': 'New York'}\n",
        " dic.pop(\"age\")\n",
        " print(dic)\n"
      ],
      "metadata": {
        "colab": {
          "base_uri": "https://localhost:8080/"
        },
        "id": "CackFLubSqA3",
        "outputId": "3d22fc79-fb14-40c2-9186-599fae22dfc3"
      },
      "execution_count": 30,
      "outputs": [
        {
          "output_type": "stream",
          "name": "stdout",
          "text": [
            "{'name': 'Bob', 'city': 'New York'}\n"
          ]
        }
      ]
    },
    {
      "cell_type": "code",
      "source": [
        " #  Write a code to check if the key \"city\" exists in the dictionary {'name': 'Alice', 'city': 'Paris'}.\n",
        "\n",
        " dic = {'name': 'Alice', 'city': 'Paris'}\n",
        " if \"city\" in dic:\n",
        "    print(\"city is in the dictionary\")\n",
        " else:\n",
        "    print(\"city is not in the dictionary\")\n",
        "\n"
      ],
      "metadata": {
        "colab": {
          "base_uri": "https://localhost:8080/"
        },
        "id": "_or-YOyZSzWe",
        "outputId": "61d9216a-22bd-4b93-ea16-b18682b2248c"
      },
      "execution_count": 31,
      "outputs": [
        {
          "output_type": "stream",
          "name": "stdout",
          "text": [
            "city is in the dictionary\n"
          ]
        }
      ]
    },
    {
      "cell_type": "code",
      "source": [
        " # Write a code to create a list, a tuple, and a dictionary, and print them all.\n",
        "\n",
        " list = [1,2,3,4,5]\n",
        " tuple = (1,2,3,4,5)\n",
        " dic = {\"name\": \"Naman\", \"age\": 23, \"city\": \"Lucknow\"}"
      ],
      "metadata": {
        "id": "WoNk0kysS8A3"
      },
      "execution_count": 41,
      "outputs": []
    },
    {
      "cell_type": "code",
      "source": [
        " #  Write a code to create a list of 5 random numbers between 1 and 100, sort it in ascending order, and print the result.(replaced)\n",
        "\n",
        " import random\n",
        "\n",
        " random_numbers = [random.randint(1, 100) for _ in range(5)]\n",
        " random_numbers.sort()\n",
        " print(random_numbers)"
      ],
      "metadata": {
        "colab": {
          "base_uri": "https://localhost:8080/"
        },
        "id": "sDVr7QrWTMMF",
        "outputId": "93fc4469-b6dd-4873-a16f-8dd5123367bc"
      },
      "execution_count": 34,
      "outputs": [
        {
          "output_type": "stream",
          "name": "stdout",
          "text": [
            "[28, 34, 44, 63, 64]\n"
          ]
        }
      ]
    },
    {
      "cell_type": "code",
      "source": [
        " # Write a code to create a list with strings and print the element at the third index.\n",
        "\n",
        " list = [\"apple\", \"banana\", \"cherry\", \"date\", \"elderberry\"]\n",
        " print(list[3])"
      ],
      "metadata": {
        "colab": {
          "base_uri": "https://localhost:8080/"
        },
        "id": "YA5bD6YMTZcH",
        "outputId": "c8555935-0bbe-4f0c-bb77-889a8a04a3bb"
      },
      "execution_count": 35,
      "outputs": [
        {
          "output_type": "stream",
          "name": "stdout",
          "text": [
            "date\n"
          ]
        }
      ]
    },
    {
      "cell_type": "code",
      "source": [
        " # Write a code to combine two dictionaries into one and print the result.\n",
        "\n",
        " dic1 = {\"name\": \"Naman\", \"age\": 23, \"city\": \"Lucknow\"}\n",
        " dic2 = {\"name\": \"Naman\", \"age\": 23, \"city\": \"Lucknow\"}"
      ],
      "metadata": {
        "id": "Qf6p6wyoTg5O"
      },
      "execution_count": 36,
      "outputs": []
    },
    {
      "cell_type": "code",
      "source": [
        " # Write a code to convert a list of strings into a set.\n",
        "\n",
        "# List of strings\n",
        "fruits_list = [\"banana\", \"date\", \"apple\", \"cherry\", \"elderberry\"]\n",
        "\n",
        "# Convert list to set\n",
        "fruits_set = set(fruits_list)\n",
        "\n",
        "# Print the set\n",
        "print(fruits_set)"
      ],
      "metadata": {
        "colab": {
          "base_uri": "https://localhost:8080/"
        },
        "id": "HfMGIthbYv02",
        "outputId": "15be55be-5bb3-48cc-b151-b14bafb08be0"
      },
      "execution_count": 57,
      "outputs": [
        {
          "output_type": "stream",
          "name": "stdout",
          "text": [
            "{'apple', 'elderberry', 'banana', 'date', 'cherry'}\n"
          ]
        }
      ]
    }
  ]
}